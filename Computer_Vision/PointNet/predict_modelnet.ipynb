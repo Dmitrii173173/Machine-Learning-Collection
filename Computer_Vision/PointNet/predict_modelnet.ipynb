{
 "cells": [
  {
   "cell_type": "code",
   "execution_count": null,
   "metadata": {},
   "outputs": [],
   "source": [
    "# importing sys\n",
    "import sys\n",
    "# adding src to the system path\n",
    "sys.path.insert(0, './src')\n",
    "\n",
    "import os\n",
    "import tensorflow as tf\n",
    "from tensorflow import keras\n",
    "from matplotlib import pyplot as plt\n",
    "from DataSetsLoader import DataSetsLoader\n",
    "from PointNetFactory import PointNetFactory"
   ]
  }
 ],
 "metadata": {
  "language_info": {
   "name": "python"
  }
 },
 "nbformat": 4,
 "nbformat_minor": 2
}
